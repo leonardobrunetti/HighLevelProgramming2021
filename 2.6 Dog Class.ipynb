{
 "cells": [
  {
   "cell_type": "markdown",
   "metadata": {},
   "source": [
    "## Dog Class"
   ]
  },
  {
   "cell_type": "code",
   "execution_count": 1,
   "metadata": {},
   "outputs": [],
   "source": [
    "# Parent class\n",
    "class Dog:\n",
    "\n",
    "    # Class attribute\n",
    "    species = 'mammal'\n",
    "\n",
    "    # Initializer / Instance attributes\n",
    "    def __init__(self, name, age, isHungry):\n",
    "        self.name = name\n",
    "        self.age = age\n",
    "        self.isHungry = isHungry\n",
    "\n",
    "    # instance method\n",
    "    def description(self):\n",
    "        return \"{} is {} years old\".format(self.name, self.age)\n",
    "\n",
    "    # instance method\n",
    "    def speak(self, sound):\n",
    "        return \"{} says {}\".format(self.name, sound)\n",
    "    \n",
    "    #eat method\n",
    "    def eat(self):\n",
    "        self.isHungry = False\n",
    "\n",
    "# Child class (inherits from Dog class)\n",
    "class RussellTerrier(Dog):\n",
    "    def run(self, speed):\n",
    "        return \"{} runs {}\".format(self.name, speed)\n",
    "\n",
    "# Child class (inherits from Dog class)\n",
    "class Bulldog(Dog):\n",
    "    def run(self, speed):\n",
    "        return \"{} runs {}\".format(self.name, speed)"
   ]
  },
  {
   "cell_type": "markdown",
   "metadata": {},
   "source": [
    "## Some instances"
   ]
  },
  {
   "cell_type": "code",
   "execution_count": 2,
   "metadata": {
    "scrolled": true
   },
   "outputs": [],
   "source": [
    "dog1 = Dog(\"Tom\", 6, True)\n",
    "dog2 = Dog(\"Fletcher\", 7, True)\n",
    "dog3 = Dog(\"Larry\", 9, True)"
   ]
  },
  {
   "cell_type": "markdown",
   "metadata": {},
   "source": [
    "## toString Method"
   ]
  },
  {
   "cell_type": "code",
   "execution_count": 3,
   "metadata": {},
   "outputs": [],
   "source": [
    "def toString(dog1, dog2, dog3):\n",
    "    print(\"I have 3 Dogs\")\n",
    "    print(dog1.description())\n",
    "    print(dog2.description())\n",
    "    print(dog3.description())\n",
    "    if (dog1.species == dog2.species == dog3.species == 'mammal'):\n",
    "        print(\"They're all mammals of course\")\n",
    "    if (dog1.isHungry == dog2.isHungry == dog3.isHungry == False):\n",
    "        print(\"My dogs are not hungry\")\n",
    "    elif (dog1.isHungry == dog2.isHungry == dog3.isHungry == True):\n",
    "        print(\"My dogs are hungry\")"
   ]
  },
  {
   "cell_type": "markdown",
   "metadata": {},
   "source": [
    "## If all dogs are hungry:"
   ]
  },
  {
   "cell_type": "code",
   "execution_count": 4,
   "metadata": {},
   "outputs": [
    {
     "name": "stdout",
     "output_type": "stream",
     "text": [
      "I have 3 Dogs\n",
      "Tom is 6 years old\n",
      "Fletcher is 7 years old\n",
      "Larry is 9 years old\n",
      "They're all mammals of course\n",
      "My dogs are hungry\n"
     ]
    }
   ],
   "source": [
    "toString(dog1, dog2, dog3)"
   ]
  },
  {
   "cell_type": "markdown",
   "metadata": {},
   "source": [
    "## If all dogs are NOT hungry"
   ]
  },
  {
   "cell_type": "code",
   "execution_count": 5,
   "metadata": {},
   "outputs": [
    {
     "name": "stdout",
     "output_type": "stream",
     "text": [
      "I have 3 Dogs\n",
      "Tom is 6 years old\n",
      "Fletcher is 7 years old\n",
      "Larry is 9 years old\n",
      "They're all mammals of course\n",
      "My dogs are not hungry\n"
     ]
    }
   ],
   "source": [
    "dog1.eat()\n",
    "dog2.eat()\n",
    "dog3.eat()\n",
    "\n",
    "toString(dog1, dog2, dog3)"
   ]
  }
 ],
 "metadata": {
  "kernelspec": {
   "display_name": "Python 3",
   "language": "python",
   "name": "python3"
  },
  "language_info": {
   "codemirror_mode": {
    "name": "ipython",
    "version": 3
   },
   "file_extension": ".py",
   "mimetype": "text/x-python",
   "name": "python",
   "nbconvert_exporter": "python",
   "pygments_lexer": "ipython3",
   "version": "3.8.5"
  }
 },
 "nbformat": 4,
 "nbformat_minor": 4
}
