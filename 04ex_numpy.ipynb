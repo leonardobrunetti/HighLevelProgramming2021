{
 "cells": [
  {
   "cell_type": "markdown",
   "metadata": {},
   "source": [
    "1\\. Find the total mean, and the mean for each row and column of the following matrix:\n",
    "\n",
    "```python\n",
    "m = np.arange(12).reshape((3,4))\n",
    "```"
   ]
  },
  {
   "cell_type": "code",
   "execution_count": 2,
   "metadata": {},
   "outputs": [
    {
     "name": "stdout",
     "output_type": "stream",
     "text": [
      "Total mean =  5.5\n"
     ]
    }
   ],
   "source": [
    "import numpy as np\n",
    "m = np.arange(12).reshape((3,4))\n",
    "num = 0\n",
    "den = 0\n",
    "for i in range(m.shape[0]):\n",
    "    for j in range(m.shape[1]):\n",
    "        num += m[i,j]\n",
    "        den += 1\n",
    "mean = num/den\n",
    "print(\"Total mean = \", mean)"
   ]
  },
  {
   "cell_type": "code",
   "execution_count": 3,
   "metadata": {},
   "outputs": [
    {
     "name": "stdout",
     "output_type": "stream",
     "text": [
      "Row 0 , mean = 1.5\n",
      "Row 1 , mean = 5.5\n",
      "Row 2 , mean = 9.5\n"
     ]
    }
   ],
   "source": [
    "for i in range(m.shape[0]):\n",
    "    num = 0\n",
    "    den = 0\n",
    "    for j in range(m.shape[1]):\n",
    "        num += m[i,j]\n",
    "        den +=1\n",
    "    mean = num/den\n",
    "    print(\"Row\", i, \", mean =\", mean)"
   ]
  },
  {
   "cell_type": "code",
   "execution_count": 4,
   "metadata": {},
   "outputs": [
    {
     "name": "stdout",
     "output_type": "stream",
     "text": [
      "Column 0 , mean =  4.0\n",
      "Column 1 , mean =  5.0\n",
      "Column 2 , mean =  6.0\n",
      "Column 3 , mean =  7.0\n"
     ]
    }
   ],
   "source": [
    "for i in range(m.shape[1]):\n",
    "    col = m[:,i]\n",
    "    num = 0\n",
    "    den = 0\n",
    "    for j in col:\n",
    "        num += j\n",
    "        den += 1\n",
    "    mean = num/ den\n",
    "    print(\"Column\", i, \", mean = \", mean)"
   ]
  },
  {
   "cell_type": "markdown",
   "metadata": {},
   "source": [
    "2\\. Find the outer product of the following vectors:\n",
    "\n",
    "```python\n",
    "u = np.array([1, 3, 5, 7])\n",
    "v = np.array([2, 4, 6, 8])\n",
    "```\n",
    "\n",
    "Use different methods to do this:\n",
    "\n",
    "   1. Using the function `outer` in numpy\n",
    "   2. Using a nested `for` loop or a list comprehension\n",
    "   3. Using numpy broadcasting operations"
   ]
  },
  {
   "cell_type": "code",
   "execution_count": 5,
   "metadata": {},
   "outputs": [
    {
     "name": "stdout",
     "output_type": "stream",
     "text": [
      "[1 3 5 7]\n",
      "[2 4 6 8]\n"
     ]
    }
   ],
   "source": [
    "import numpy as np\n",
    "u = np.array([1, 3, 5, 7])\n",
    "v = np.array([2, 4, 6, 8])\n",
    "print(u)\n",
    "print(v)"
   ]
  },
  {
   "cell_type": "code",
   "execution_count": 6,
   "metadata": {},
   "outputs": [
    {
     "name": "stdout",
     "output_type": "stream",
     "text": [
      "[[ 2  4  6  8]\n",
      " [ 6 12 18 24]\n",
      " [10 20 30 40]\n",
      " [14 28 42 56]]\n"
     ]
    }
   ],
   "source": [
    "print(np.outer(u,v))"
   ]
  },
  {
   "cell_type": "code",
   "execution_count": 7,
   "metadata": {},
   "outputs": [
    {
     "name": "stdout",
     "output_type": "stream",
     "text": [
      "[2, 4, 6, 8]\n",
      "[6, 12, 18, 24]\n",
      "[10, 20, 30, 40]\n",
      "[14, 28, 42, 56]\n"
     ]
    }
   ],
   "source": [
    "for i in u:\n",
    "    row = []\n",
    "    for j in v:\n",
    "        row.append(i*j)\n",
    "    print(row)"
   ]
  },
  {
   "cell_type": "code",
   "execution_count": 8,
   "metadata": {},
   "outputs": [
    {
     "name": "stdout",
     "output_type": "stream",
     "text": [
      "[[1 1 1 1]\n",
      " [3 3 3 3]\n",
      " [5 5 5 5]\n",
      " [7 7 7 7]] \n",
      "\n",
      "[[2 4 6 8]\n",
      " [2 4 6 8]\n",
      " [2 4 6 8]\n",
      " [2 4 6 8]] \n",
      "\n",
      "[[ 2  4  6  8]\n",
      " [ 6 12 18 24]\n",
      " [10 20 30 40]\n",
      " [14 28 42 56]]\n"
     ]
    }
   ],
   "source": [
    "u_broad = np.tile(u, (4,1)).T\n",
    "v_broad = np.tile(v, (4,1))\n",
    "\n",
    "print(u_broad,'\\n')\n",
    "print(v_broad,'\\n')\n",
    "\n",
    "print(u_broad*v_broad)"
   ]
  },
  {
   "cell_type": "markdown",
   "metadata": {},
   "source": [
    "3\\. Create a 10 by 6 matrix of increasing float numbers, starting from zero and increasing in each step by 0.1, so the output matrix looks like the following:\n",
    "\n",
    "```python\n",
    "m = [[0. 0.1, 0.2 0.3 ... 0.9]\n",
    "     [1.0 1.1 1.2 1.3 ... 1.9]\n",
    "     ...\n",
    "     [5.0 5.1 5.2 5.3 ... 5.9]]\n",
    "```\n",
    "After creating the matrix, set all entries with a decimal part $< 0.4$ to zero."
   ]
  },
  {
   "cell_type": "code",
   "execution_count": 9,
   "metadata": {},
   "outputs": [
    {
     "name": "stdout",
     "output_type": "stream",
     "text": [
      "[[0.  0.1 0.2 0.3 0.4 0.5 0.6 0.7 0.8 0.9]\n",
      " [1.  1.1 1.2 1.3 1.4 1.5 1.6 1.7 1.8 1.9]\n",
      " [2.  2.1 2.2 2.3 2.4 2.5 2.6 2.7 2.8 2.9]\n",
      " [3.  3.1 3.2 3.3 3.4 3.5 3.6 3.7 3.8 3.9]\n",
      " [4.  4.1 4.2 4.3 4.4 4.5 4.6 4.7 4.8 4.9]\n",
      " [5.  5.1 5.2 5.3 5.4 5.5 5.6 5.7 5.8 5.9]]\n"
     ]
    }
   ],
   "source": [
    "import numpy as np\n",
    "a = np.tile(np.arange(0,6,1), (10, 1)).T\n",
    "b = np.arange(0,1,0.1)\n",
    "c = a+b\n",
    "print(c)"
   ]
  },
  {
   "cell_type": "code",
   "execution_count": 12,
   "metadata": {},
   "outputs": [
    {
     "name": "stdout",
     "output_type": "stream",
     "text": [
      "[[0.  0.  0.  0.  0.  0.5 0.6 0.7 0.8 0.9]\n",
      " [0.  0.  0.  0.  0.  1.5 1.6 1.7 1.8 1.9]\n",
      " [0.  0.  0.  0.  0.  2.5 2.6 2.7 2.8 2.9]\n",
      " [0.  0.  0.  0.  0.  3.5 3.6 3.7 3.8 3.9]\n",
      " [0.  0.  0.  0.  0.  4.5 4.6 4.7 4.8 4.9]\n",
      " [0.  0.  0.  0.  0.  5.5 5.6 5.7 5.8 5.9]]\n"
     ]
    }
   ],
   "source": [
    "for i in range(c.shape[0]):\n",
    "    for j in range(0,5):\n",
    "        c[i,j] = 0\n",
    "print(c)"
   ]
  },
  {
   "cell_type": "markdown",
   "metadata": {},
   "source": [
    "4\\. Use `np.linspace` to create an array of 100 numbers between 0 and 2π (inclusive).\n",
    "\n",
    "  * Extract every 10th element using the slice notation\n",
    "  * Reverse the array using the slice notation\n",
    "  * Extract elements where the absolute difference between the sin and cos functions evaluated for that element is $< 0.1$\n",
    "  * **Optional**: make a plot showing the sin and cos functions and indicate where they are close"
   ]
  },
  {
   "cell_type": "code",
   "execution_count": 13,
   "metadata": {},
   "outputs": [
    {
     "data": {
      "text/plain": [
       "array([0.        , 0.06346652, 0.12693304, 0.19039955, 0.25386607,\n",
       "       0.31733259, 0.38079911, 0.44426563, 0.50773215, 0.57119866,\n",
       "       0.63466518, 0.6981317 , 0.76159822, 0.82506474, 3.87145761,\n",
       "       3.93492413, 3.99839065, 4.06185717, 4.12532369, 4.1887902 ,\n",
       "       4.25225672, 4.31572324, 4.37918976, 4.44265628, 4.5061228 ,\n",
       "       4.56958931, 4.63305583, 4.69652235, 4.75998887, 4.82345539,\n",
       "       4.88692191, 4.95038842, 5.01385494, 5.07732146, 5.14078798,\n",
       "       5.2042545 , 5.26772102, 5.33118753, 5.39465405, 5.45812057,\n",
       "       5.52158709, 5.58505361, 5.64852012, 5.71198664, 5.77545316,\n",
       "       5.83891968, 5.9023862 , 5.96585272, 6.02931923, 6.09278575,\n",
       "       6.15625227, 6.21971879, 6.28318531])"
      ]
     },
     "execution_count": 13,
     "metadata": {},
     "output_type": "execute_result"
    }
   ],
   "source": [
    "import math as m\n",
    "import numpy as np\n",
    "a = np.linspace(0, (2*np.pi), 100)\n",
    "a\n",
    "\n",
    "\n"
   ]
  },
  {
   "cell_type": "code",
   "execution_count": 14,
   "metadata": {},
   "outputs": [
    {
     "data": {
      "text/plain": [
       "array([0.        , 0.63466518, 1.26933037, 1.90399555, 2.53866073,\n",
       "       3.17332591, 3.8079911 , 4.44265628, 5.07732146, 5.71198664])"
      ]
     },
     "execution_count": 14,
     "metadata": {},
     "output_type": "execute_result"
    }
   ],
   "source": [
    "b = a[::10]\n",
    "b"
   ]
  },
  {
   "cell_type": "code",
   "execution_count": 15,
   "metadata": {},
   "outputs": [
    {
     "data": {
      "text/plain": [
       "array([6.28318531, 6.21971879, 6.15625227, 6.09278575, 6.02931923,\n",
       "       5.96585272, 5.9023862 , 5.83891968, 5.77545316, 5.71198664,\n",
       "       5.64852012, 5.58505361, 5.52158709, 5.45812057, 5.39465405,\n",
       "       5.33118753, 5.26772102, 5.2042545 , 5.14078798, 5.07732146,\n",
       "       5.01385494, 4.95038842, 4.88692191, 4.82345539, 4.75998887,\n",
       "       4.69652235, 4.63305583, 4.56958931, 4.5061228 , 4.44265628,\n",
       "       4.37918976, 4.31572324, 4.25225672, 4.1887902 , 4.12532369,\n",
       "       4.06185717, 3.99839065, 3.93492413, 3.87145761, 3.8079911 ,\n",
       "       3.74452458, 3.68105806, 3.61759154, 3.55412502, 3.4906585 ,\n",
       "       3.42719199, 3.36372547, 3.30025895, 3.23679243, 3.17332591,\n",
       "       3.10985939, 3.04639288, 2.98292636, 2.91945984, 2.85599332,\n",
       "       2.7925268 , 2.72906028, 2.66559377, 2.60212725, 2.53866073,\n",
       "       2.47519421, 2.41172769, 2.34826118, 2.28479466, 2.22132814,\n",
       "       2.15786162, 2.0943951 , 2.03092858, 1.96746207, 1.90399555,\n",
       "       1.84052903, 1.77706251, 1.71359599, 1.65012947, 1.58666296,\n",
       "       1.52319644, 1.45972992, 1.3962634 , 1.33279688, 1.26933037,\n",
       "       1.20586385, 1.14239733, 1.07893081, 1.01546429, 0.95199777,\n",
       "       0.88853126, 0.82506474, 0.76159822, 0.6981317 , 0.63466518,\n",
       "       0.57119866, 0.50773215, 0.44426563, 0.38079911, 0.31733259,\n",
       "       0.25386607, 0.19039955, 0.12693304, 0.06346652, 0.        ])"
      ]
     },
     "execution_count": 15,
     "metadata": {},
     "output_type": "execute_result"
    }
   ],
   "source": [
    "c = a[::-1]\n",
    "c"
   ]
  },
  {
   "cell_type": "code",
   "execution_count": 16,
   "metadata": {},
   "outputs": [
    {
     "data": {
      "text/plain": [
       "array([0.        , 0.06346652, 0.12693304, 0.19039955, 0.25386607,\n",
       "       0.31733259, 0.38079911, 0.44426563, 0.50773215, 0.57119866,\n",
       "       0.63466518, 0.6981317 , 0.76159822, 0.82506474, 3.87145761,\n",
       "       3.93492413, 3.99839065, 4.06185717, 4.12532369, 4.1887902 ,\n",
       "       4.25225672, 4.31572324, 4.37918976, 4.44265628, 4.5061228 ,\n",
       "       4.56958931, 4.63305583, 4.69652235, 4.75998887, 4.82345539,\n",
       "       4.88692191, 4.95038842, 5.01385494, 5.07732146, 5.14078798,\n",
       "       5.2042545 , 5.26772102, 5.33118753, 5.39465405, 5.45812057,\n",
       "       5.52158709, 5.58505361, 5.64852012, 5.71198664, 5.77545316,\n",
       "       5.83891968, 5.9023862 , 5.96585272, 6.02931923, 6.09278575,\n",
       "       6.15625227, 6.21971879, 6.28318531])"
      ]
     },
     "execution_count": 16,
     "metadata": {},
     "output_type": "execute_result"
    }
   ],
   "source": [
    "mask = (abs(np.sin(a) - np.cos(a) < 0.1))\n",
    "a[mask] "
   ]
  },
  {
   "cell_type": "markdown",
   "metadata": {},
   "source": [
    "5\\. Create a matrix that shows the 10 by 10 multiplication table.\n",
    "\n",
    " * Find the trace of the matrix\n",
    " * Extract the anti-diagonal matrix (this should be ```array([10, 18, 24, 28, 30, 30, 28, 24, 18, 10])```)\n",
    " * Extract the diagonal offset by 1 upwards (this should be ```array([ 2,  6, 12, 20, 30, 42, 56, 72, 90])```)"
   ]
  },
  {
   "cell_type": "code",
   "execution_count": 17,
   "metadata": {},
   "outputs": [
    {
     "data": {
      "text/plain": [
       "array([[  1,   2,   3,   4,   5,   6,   7,   8,   9,  10],\n",
       "       [  2,   4,   6,   8,  10,  12,  14,  16,  18,  20],\n",
       "       [  3,   6,   9,  12,  15,  18,  21,  24,  27,  30],\n",
       "       [  4,   8,  12,  16,  20,  24,  28,  32,  36,  40],\n",
       "       [  5,  10,  15,  20,  25,  30,  35,  40,  45,  50],\n",
       "       [  6,  12,  18,  24,  30,  36,  42,  48,  54,  60],\n",
       "       [  7,  14,  21,  28,  35,  42,  49,  56,  63,  70],\n",
       "       [  8,  16,  24,  32,  40,  48,  56,  64,  72,  80],\n",
       "       [  9,  18,  27,  36,  45,  54,  63,  72,  81,  90],\n",
       "       [ 10,  20,  30,  40,  50,  60,  70,  80,  90, 100]])"
      ]
     },
     "execution_count": 17,
     "metadata": {},
     "output_type": "execute_result"
    }
   ],
   "source": [
    "import numpy as np\n",
    "v = np.arange(1,11)\n",
    "u = np.tile(v, (10,1)).T\n",
    "m = u*v\n",
    "m"
   ]
  },
  {
   "cell_type": "code",
   "execution_count": 18,
   "metadata": {},
   "outputs": [
    {
     "name": "stdout",
     "output_type": "stream",
     "text": [
      "Trace of the matrix is: 385\n"
     ]
    }
   ],
   "source": [
    "d = np.diag(m)\n",
    "s = 0\n",
    "for i in d:\n",
    "    s += i\n",
    "print(\"Trace of the matrix is:\", s)"
   ]
  },
  {
   "cell_type": "code",
   "execution_count": 19,
   "metadata": {},
   "outputs": [
    {
     "data": {
      "text/plain": [
       "array([[ 10,   9,   8,   7,   6,   5,   4,   3,   2,   1],\n",
       "       [ 20,  18,  16,  14,  12,  10,   8,   6,   4,   2],\n",
       "       [ 30,  27,  24,  21,  18,  15,  12,   9,   6,   3],\n",
       "       [ 40,  36,  32,  28,  24,  20,  16,  12,   8,   4],\n",
       "       [ 50,  45,  40,  35,  30,  25,  20,  15,  10,   5],\n",
       "       [ 60,  54,  48,  42,  36,  30,  24,  18,  12,   6],\n",
       "       [ 70,  63,  56,  49,  42,  35,  28,  21,  14,   7],\n",
       "       [ 80,  72,  64,  56,  48,  40,  32,  24,  16,   8],\n",
       "       [ 90,  81,  72,  63,  54,  45,  36,  27,  18,   9],\n",
       "       [100,  90,  80,  70,  60,  50,  40,  30,  20,  10]])"
      ]
     },
     "execution_count": 19,
     "metadata": {},
     "output_type": "execute_result"
    }
   ],
   "source": [
    "anti_matrix = np.fliplr(m)\n",
    "anti_matrix"
   ]
  },
  {
   "cell_type": "code",
   "execution_count": 20,
   "metadata": {},
   "outputs": [
    {
     "name": "stdout",
     "output_type": "stream",
     "text": [
      "Anti-diagonal is: [10 18 24 28 30 30 28 24 18 10]\n"
     ]
    }
   ],
   "source": [
    "anti_diag = np.diag(anti_matrix)\n",
    "print(\"Anti-diagonal is:\", anti_diag)"
   ]
  },
  {
   "cell_type": "code",
   "execution_count": 21,
   "metadata": {},
   "outputs": [
    {
     "name": "stdout",
     "output_type": "stream",
     "text": [
      "diagonal offset by 1 is: [2, 6, 12, 20, 30, 42, 56, 72, 90]\n"
     ]
    }
   ],
   "source": [
    "offset_d = []\n",
    "for i in range(m.shape[0]):\n",
    "    for j in range(m.shape[1]):\n",
    "        if(j == i+1):\n",
    "            offset_d.append(m[i,j])\n",
    "print(\"diagonal offset by 1 is:\", offset_d) "
   ]
  },
  {
   "cell_type": "markdown",
   "metadata": {},
   "source": [
    "6\\. Use broadcasting to create a grid of distances.\n",
    "\n",
    "Route 66 crosses the following cities in the US: Chicago, Springfield, Saint-Louis, Tulsa, Oklahoma City, Amarillo, Santa Fe, Albuquerque, Flagstaff, Los Angeles\n",
    "The corresponding positions in miles are: 0, 198, 303, 736, 871, 1175, 1475, 1544, 1913, 2448\n",
    "\n",
    "  * Build a 2D grid of distances among each city along Route 66\n",
    "  * Convert the distances in km"
   ]
  },
  {
   "cell_type": "code",
   "execution_count": null,
   "metadata": {},
   "outputs": [],
   "source": []
  },
  {
   "cell_type": "markdown",
   "metadata": {},
   "source": [
    "7\\. Prime numbers sieve: compute the prime numbers in the 0-N (start with N=99) range with a sieve (mask).\n",
    "  * Check the performances (timeit); how does it scale with N?\n",
    "  * Implement the optimization suggested in the [sieve of Eratosthenes](https://en.wikipedia.org/wiki/Sieve_of_Eratosthenes)"
   ]
  },
  {
   "cell_type": "code",
   "execution_count": null,
   "metadata": {},
   "outputs": [],
   "source": []
  }
 ],
 "metadata": {
  "kernelspec": {
   "display_name": "Python 3",
   "language": "python",
   "name": "python3"
  },
  "language_info": {
   "codemirror_mode": {
    "name": "ipython",
    "version": 3
   },
   "file_extension": ".py",
   "mimetype": "text/x-python",
   "name": "python",
   "nbconvert_exporter": "python",
   "pygments_lexer": "ipython3",
   "version": "3.8.5"
  }
 },
 "nbformat": 4,
 "nbformat_minor": 2
}
