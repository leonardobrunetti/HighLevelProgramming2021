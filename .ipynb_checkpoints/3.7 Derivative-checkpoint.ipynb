{
 "cells": [
  {
   "cell_type": "code",
   "execution_count": 4,
   "metadata": {},
   "outputs": [
    {
     "name": "stdout",
     "output_type": "stream",
     "text": [
      "delta: 1e-2  derivative:  1.010000000000001\n",
      "delta:  0.0001 derivative:  1.0000999999998899\n",
      "delta:  1e-06 derivative:  1.0000009999177333\n",
      "delta:  1e-08 derivative:  1.0000000039225287\n",
      "delta:  1e-10 derivative:  1.000000082840371\n",
      "delta:  1e-12 derivative:  1.0000889005833413\n",
      "delta:  1e-14 derivative:  0.9992007221626509\n"
     ]
    }
   ],
   "source": [
    "def func(x):\n",
    "    return x*(x-1)\n",
    "\n",
    "deltaList = [1e-4, 1e-6, 1e-8, 1e-10, 1e-12, 1e-14]\n",
    "\n",
    "def derivative(function, x, delta):\n",
    "    num = function(x + delta) - function(x)\n",
    "    den = delta\n",
    "    slope = num / den\n",
    "    return float(slope)\n",
    "\n",
    "print(\"delta: 1e-2 \", \"derivative: \", derivative(func, 1, 1e-2))\n",
    "\n",
    "for i in range(6):\n",
    "    print(\"delta: \", deltaList[i], \"derivative: \", derivative(func, 1, deltaList[i]))\n",
    "    \n",
    "    \n"
   ]
  }
 ],
 "metadata": {
  "kernelspec": {
   "display_name": "Python 3",
   "language": "python",
   "name": "python3"
  },
  "language_info": {
   "codemirror_mode": {
    "name": "ipython",
    "version": 3
   },
   "file_extension": ".py",
   "mimetype": "text/x-python",
   "name": "python",
   "nbconvert_exporter": "python",
   "pygments_lexer": "ipython3",
   "version": "3.8.5"
  }
 },
 "nbformat": 4,
 "nbformat_minor": 4
}
