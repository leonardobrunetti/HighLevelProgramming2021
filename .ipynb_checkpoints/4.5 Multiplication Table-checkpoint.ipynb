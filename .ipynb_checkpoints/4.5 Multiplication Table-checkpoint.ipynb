{
 "cells": [
  {
   "cell_type": "markdown",
   "metadata": {},
   "source": [
    "## Creating the multiplication table 10x10"
   ]
  },
  {
   "cell_type": "code",
   "execution_count": 25,
   "metadata": {},
   "outputs": [
    {
     "data": {
      "text/plain": [
       "array([[  1,   2,   3,   4,   5,   6,   7,   8,   9,  10],\n",
       "       [  2,   4,   6,   8,  10,  12,  14,  16,  18,  20],\n",
       "       [  3,   6,   9,  12,  15,  18,  21,  24,  27,  30],\n",
       "       [  4,   8,  12,  16,  20,  24,  28,  32,  36,  40],\n",
       "       [  5,  10,  15,  20,  25,  30,  35,  40,  45,  50],\n",
       "       [  6,  12,  18,  24,  30,  36,  42,  48,  54,  60],\n",
       "       [  7,  14,  21,  28,  35,  42,  49,  56,  63,  70],\n",
       "       [  8,  16,  24,  32,  40,  48,  56,  64,  72,  80],\n",
       "       [  9,  18,  27,  36,  45,  54,  63,  72,  81,  90],\n",
       "       [ 10,  20,  30,  40,  50,  60,  70,  80,  90, 100]])"
      ]
     },
     "execution_count": 25,
     "metadata": {},
     "output_type": "execute_result"
    }
   ],
   "source": [
    "import numpy as np\n",
    "v = np.arange(1,11)\n",
    "u = np.tile(v, (10,1)).T\n",
    "m = u*v\n",
    "m"
   ]
  },
  {
   "cell_type": "markdown",
   "metadata": {},
   "source": [
    "## Finding the trace"
   ]
  },
  {
   "cell_type": "code",
   "execution_count": 26,
   "metadata": {},
   "outputs": [
    {
     "name": "stdout",
     "output_type": "stream",
     "text": [
      "Trace of the matrix is: 385\n"
     ]
    }
   ],
   "source": [
    "d = np.diag(m)\n",
    "s = 0\n",
    "for i in d:\n",
    "    s += i\n",
    "print(\"Trace of the matrix is:\", s)"
   ]
  },
  {
   "cell_type": "markdown",
   "metadata": {},
   "source": [
    "## Finding the anti-diagonal"
   ]
  },
  {
   "cell_type": "code",
   "execution_count": 27,
   "metadata": {},
   "outputs": [
    {
     "data": {
      "text/plain": [
       "array([[ 10,   9,   8,   7,   6,   5,   4,   3,   2,   1],\n",
       "       [ 20,  18,  16,  14,  12,  10,   8,   6,   4,   2],\n",
       "       [ 30,  27,  24,  21,  18,  15,  12,   9,   6,   3],\n",
       "       [ 40,  36,  32,  28,  24,  20,  16,  12,   8,   4],\n",
       "       [ 50,  45,  40,  35,  30,  25,  20,  15,  10,   5],\n",
       "       [ 60,  54,  48,  42,  36,  30,  24,  18,  12,   6],\n",
       "       [ 70,  63,  56,  49,  42,  35,  28,  21,  14,   7],\n",
       "       [ 80,  72,  64,  56,  48,  40,  32,  24,  16,   8],\n",
       "       [ 90,  81,  72,  63,  54,  45,  36,  27,  18,   9],\n",
       "       [100,  90,  80,  70,  60,  50,  40,  30,  20,  10]])"
      ]
     },
     "execution_count": 27,
     "metadata": {},
     "output_type": "execute_result"
    }
   ],
   "source": [
    "anti_matrix = np.fliplr(m)\n",
    "anti_matrix"
   ]
  },
  {
   "cell_type": "code",
   "execution_count": 30,
   "metadata": {},
   "outputs": [
    {
     "name": "stdout",
     "output_type": "stream",
     "text": [
      "Anti-diagonal is: [10 18 24 28 30 30 28 24 18 10]\n"
     ]
    }
   ],
   "source": [
    "anti_diag = np.diag(anti_matrix)\n",
    "print(\"Anti-diagonal is:\", anti_diag)"
   ]
  },
  {
   "cell_type": "markdown",
   "metadata": {},
   "source": [
    "## Extracting diagonal offset by 1"
   ]
  },
  {
   "cell_type": "code",
   "execution_count": 41,
   "metadata": {},
   "outputs": [
    {
     "name": "stdout",
     "output_type": "stream",
     "text": [
      "diagonal offset by 1 is: [2, 6, 12, 20, 30, 42, 56, 72, 90]\n"
     ]
    }
   ],
   "source": [
    "offset_d = []\n",
    "for i in range(m.shape[0]):\n",
    "    for j in range(m.shape[1]):\n",
    "        if(j == i+1):\n",
    "            offset_d.append(m[i,j])\n",
    "print(\"diagonal offset by 1 is:\", offset_d) "
   ]
  },
  {
   "cell_type": "code",
   "execution_count": null,
   "metadata": {},
   "outputs": [],
   "source": []
  }
 ],
 "metadata": {
  "kernelspec": {
   "display_name": "Python 3",
   "language": "python",
   "name": "python3"
  },
  "language_info": {
   "codemirror_mode": {
    "name": "ipython",
    "version": 3
   },
   "file_extension": ".py",
   "mimetype": "text/x-python",
   "name": "python",
   "nbconvert_exporter": "python",
   "pygments_lexer": "ipython3",
   "version": "3.8.5"
  }
 },
 "nbformat": 4,
 "nbformat_minor": 4
}
