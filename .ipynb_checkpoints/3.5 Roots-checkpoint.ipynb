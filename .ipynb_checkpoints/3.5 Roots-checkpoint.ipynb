{
 "cells": [
  {
   "cell_type": "code",
   "execution_count": 25,
   "metadata": {},
   "outputs": [],
   "source": [
    "import numpy as np\n",
    "\n",
    "def quad_eq(a,b,c):\n",
    "    delta = (b**2) - (4*a*c)\n",
    "    x1 = (- b - np.sqrt(delta)) / (2*a)\n",
    "    x2 = (- b + np.sqrt(delta)) / (2*a)\n",
    "    print(x1, x2)"
   ]
  },
  {
   "cell_type": "code",
   "execution_count": 26,
   "metadata": {},
   "outputs": [
    {
     "name": "stdout",
     "output_type": "stream",
     "text": [
      "-999999.999999 -9.999894245993346e-07\n"
     ]
    }
   ],
   "source": [
    "quad_eq(0.001, 1000, 0.001)"
   ]
  },
  {
   "cell_type": "code",
   "execution_count": 27,
   "metadata": {},
   "outputs": [],
   "source": [
    "import numpy as np\n",
    "\n",
    "def quad_eq2(a,b,c):\n",
    "    delta = (b**2) - (4*a*c)    \n",
    "    x1 = ((- b - np.sqrt(delta)) / (2*a)) * (-b+delta) / (-b+delta)\n",
    "    x2 = ((- b + np.sqrt(delta)) / (2*a)) * (-b-delta) / (-b-delta)\n",
    "    print(x1, x2) "
   ]
  },
  {
   "cell_type": "code",
   "execution_count": 28,
   "metadata": {},
   "outputs": [
    {
     "name": "stdout",
     "output_type": "stream",
     "text": [
      "-999999.999999 -9.999894245993346e-07\n"
     ]
    }
   ],
   "source": [
    "quad_eq2(0.001, 1000, 0.001)"
   ]
  },
  {
   "cell_type": "code",
   "execution_count": 29,
   "metadata": {},
   "outputs": [],
   "source": [
    "def root_quad(a,b,c):\n",
    "    delta = (b**2) - (4*a*c)\n",
    "    if delta < 0:\n",
    "        print(\"no real solutions\")\n",
    "    elif delta >= 0:    \n",
    "        x1 = ((- b - np.sqrt(delta)) / (2*a)) * (-b+delta) / (-b+delta)\n",
    "        x2 = ((- b + np.sqrt(delta)) / (2*a)) * (-b-delta) / (-b-delta)\n",
    "        print(x1, x2) \n",
    "    "
   ]
  },
  {
   "cell_type": "code",
   "execution_count": 30,
   "metadata": {},
   "outputs": [
    {
     "name": "stdout",
     "output_type": "stream",
     "text": [
      "-999999.999999 -9.999894245993346e-07\n"
     ]
    }
   ],
   "source": [
    "quad_eq2(0.001, 1000, 0.001)"
   ]
  },
  {
   "cell_type": "code",
   "execution_count": null,
   "metadata": {},
   "outputs": [],
   "source": []
  }
 ],
 "metadata": {
  "kernelspec": {
   "display_name": "Python 3",
   "language": "python",
   "name": "python3"
  },
  "language_info": {
   "codemirror_mode": {
    "name": "ipython",
    "version": 3
   },
   "file_extension": ".py",
   "mimetype": "text/x-python",
   "name": "python",
   "nbconvert_exporter": "python",
   "pygments_lexer": "ipython3",
   "version": "3.8.5"
  }
 },
 "nbformat": 4,
 "nbformat_minor": 4
}
