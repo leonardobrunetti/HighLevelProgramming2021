{
 "cells": [
  {
   "cell_type": "code",
   "execution_count": 11,
   "metadata": {},
   "outputs": [
    {
     "name": "stdout",
     "output_type": "stream",
     "text": [
      "Riemann :  0.003979949748426484\n",
      "difference with true result:  1.574776276543323\n",
      "error:  0.0006334286757194202\n",
      "Integration using N =  109200000 results:  3.505306768010541e-12\n",
      "difference with true result:  1.5707963267913914\n",
      " error:  5.578868991823533e-13\n",
      "Integration time =  0.0\n"
     ]
    }
   ],
   "source": [
    "import time\n",
    "import numpy as np\n",
    "import math\n",
    "\n",
    "int = 0\n",
    "\n",
    "def f(x):\n",
    "    return np.sqrt(1-x**2)\n",
    "\n",
    "def integrate(N, inf, sup):\n",
    "    integral = 0\n",
    "    for k in range(1, N+1):\n",
    "        h = (sup-inf)/N\n",
    "        integral = integral + f(inf+h*k)*h\n",
    "        return integral\n",
    "print(\"Riemann : \", integrate(100, -1, 1))\n",
    "print(\"difference with true result: \", np.abs(integrate(100, 1, -1)-math.pi/2))\n",
    "print(\"error: \", np.abs(integrate(100, -1, 1)/math.pi/2))\n",
    "\n",
    "N = 1560000 * 70\n",
    "timeI = time.process_time()\n",
    "integralValue = integrate(N, -1, 1)\n",
    "timeF = time.process_time() - timeI\n",
    "\n",
    "print(\"Integration using N = \", x, \"results: \", integralValue)\n",
    "print(\"difference with true result: \", np.abs(integralValue-math.pi/2))\n",
    "print(\" error: \", np.abs(integralValue/math.pi/2))\n",
    "print(\"Integration time = \", timeF)"
   ]
  },
  {
   "cell_type": "code",
   "execution_count": null,
   "metadata": {},
   "outputs": [],
   "source": []
  }
 ],
 "metadata": {
  "kernelspec": {
   "display_name": "Python 3",
   "language": "python",
   "name": "python3"
  },
  "language_info": {
   "codemirror_mode": {
    "name": "ipython",
    "version": 3
   },
   "file_extension": ".py",
   "mimetype": "text/x-python",
   "name": "python",
   "nbconvert_exporter": "python",
   "pygments_lexer": "ipython3",
   "version": "3.8.5"
  }
 },
 "nbformat": 4,
 "nbformat_minor": 4
}
