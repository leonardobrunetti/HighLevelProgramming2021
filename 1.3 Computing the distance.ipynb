{
 "cells": [
  {
   "cell_type": "code",
   "execution_count": 11,
   "metadata": {},
   "outputs": [
    {
     "name": "stdout",
     "output_type": "stream",
     "text": [
      "Insert ux: 3\n",
      "Insert uy: 0\n",
      "Insert vx: 0\n",
      "Insert vy: 4\n",
      "euclidean distance between u and v:  5.0\n"
     ]
    }
   ],
   "source": [
    "import math as m\n",
    "\n",
    "ux = float(input(\"Insert ux: \"))\n",
    "uy = float(input(\"Insert uy: \"))\n",
    "vx = float(input(\"Insert vx: \"))\n",
    "vy = float(input(\"Insert vy: \"))\n",
    "\n",
    "dist = m.sqrt((ux-vx)**2 + (uy-vy)**2)\n",
    "print(\"euclidean distance between u and v: \",dist)"
   ]
  },
  {
   "cell_type": "code",
   "execution_count": null,
   "metadata": {},
   "outputs": [],
   "source": [
    "#### distance = math.sqrt((vx-ux)**2 + (vy-uy)**2)\n",
    "print(distance)"
   ]
  },
  {
   "cell_type": "code",
   "execution_count": null,
   "metadata": {},
   "outputs": [],
   "source": []
  }
 ],
 "metadata": {
  "kernelspec": {
   "display_name": "Python 3",
   "language": "python",
   "name": "python3"
  },
  "language_info": {
   "codemirror_mode": {
    "name": "ipython",
    "version": 3
   },
   "file_extension": ".py",
   "mimetype": "text/x-python",
   "name": "python",
   "nbconvert_exporter": "python",
   "pygments_lexer": "ipython3",
   "version": "3.8.5"
  }
 },
 "nbformat": 4,
 "nbformat_minor": 4
}
