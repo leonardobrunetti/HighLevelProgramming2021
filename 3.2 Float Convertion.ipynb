{
 "cells": [
  {
   "cell_type": "markdown",
   "metadata": {},
   "source": [
    "2. Write a function that converts a 32 bit word into a single precision floating point (i.e. interprets the various bits as sign, mantissa and exponent) and check its validity."
   ]
  },
  {
   "cell_type": "code",
   "execution_count": 22,
   "metadata": {},
   "outputs": [
    {
     "name": "stdout",
     "output_type": "stream",
     "text": [
      "1.0571784514468163e-07\n"
     ]
    }
   ],
   "source": [
    "import struct\n",
    "\n",
    "def convert_32bitword_to_float(a):\n",
    "    sign = a[0]\n",
    "    exp = a[1:9]\n",
    "    mant = a[9:]\n",
    "    \n",
    "    mantissa = 0\n",
    "    for i in range(23):\n",
    "        mantissa += int(mant[i]) * 2**(-i-1)\n",
    "    exponent = int(exp,2)  \n",
    "    return (-1)**int(sign) * (1 + mantissa) * 2**(exponent - 127)\n",
    "\n",
    "print(convert_32bitword_to_float(\"00110011111000110000011100000000\"))"
   ]
  },
  {
   "cell_type": "code",
   "execution_count": null,
   "metadata": {},
   "outputs": [],
   "source": []
  }
 ],
 "metadata": {
  "kernelspec": {
   "display_name": "Python 3",
   "language": "python",
   "name": "python3"
  },
  "language_info": {
   "codemirror_mode": {
    "name": "ipython",
    "version": 3
   },
   "file_extension": ".py",
   "mimetype": "text/x-python",
   "name": "python",
   "nbconvert_exporter": "python",
   "pygments_lexer": "ipython3",
   "version": "3.8.5"
  }
 },
 "nbformat": 4,
 "nbformat_minor": 4
}
