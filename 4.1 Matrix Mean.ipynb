{
 "cells": [
  {
   "cell_type": "code",
   "execution_count": 1,
   "metadata": {},
   "outputs": [
    {
     "name": "stdout",
     "output_type": "stream",
     "text": [
      "[[ 0  1  2  3]\n",
      " [ 4  5  6  7]\n",
      " [ 8  9 10 11]]\n"
     ]
    }
   ],
   "source": [
    "import numpy as np\n",
    "m = np.arange(12).reshape((3,4))\n",
    "print(m)"
   ]
  },
  {
   "cell_type": "markdown",
   "metadata": {},
   "source": [
    "## Total Mean"
   ]
  },
  {
   "cell_type": "code",
   "execution_count": 2,
   "metadata": {},
   "outputs": [
    {
     "name": "stdout",
     "output_type": "stream",
     "text": [
      "Total mean = 5.5\n"
     ]
    }
   ],
   "source": [
    "num = 0\n",
    "den = 0\n",
    "for i in range(len(m)):\n",
    "    for j in m[i]:\n",
    "        num += j\n",
    "        den += 1\n",
    "mean = num/den\n",
    "print(\"Total mean =\", mean)      "
   ]
  },
  {
   "cell_type": "markdown",
   "metadata": {},
   "source": [
    "## Row Mean"
   ]
  },
  {
   "cell_type": "code",
   "execution_count": 3,
   "metadata": {},
   "outputs": [
    {
     "name": "stdout",
     "output_type": "stream",
     "text": [
      "Row 0 , mean = 1.5\n",
      "Row 1 , mean = 5.5\n",
      "Row 2 , mean = 9.5\n"
     ]
    }
   ],
   "source": [
    "for i in range(len(m)):\n",
    "    num = 0\n",
    "    den = 0\n",
    "    for j in m[i]:\n",
    "        num += j\n",
    "        den += 1\n",
    "    mean = num/den\n",
    "    print(\"Row\", i,\", mean =\", mean)\n",
    "                "
   ]
  },
  {
   "cell_type": "markdown",
   "metadata": {},
   "source": [
    "## Column Mean"
   ]
  },
  {
   "cell_type": "code",
   "execution_count": 4,
   "metadata": {},
   "outputs": [
    {
     "name": "stdout",
     "output_type": "stream",
     "text": [
      "Column 0 , mean = 4.0\n",
      "Column 1 , mean = 5.0\n",
      "Column 2 , mean = 6.0\n",
      "Column 3 , mean = 7.0\n"
     ]
    }
   ],
   "source": [
    "for i in range(4):\n",
    "    col = m[:,i]\n",
    "    num = 0\n",
    "    den = 0\n",
    "    for j in col:\n",
    "        num += j\n",
    "        den += 1\n",
    "    mean = num/den\n",
    "    print(\"Column\", i, \", mean =\", mean)"
   ]
  }
 ],
 "metadata": {
  "kernelspec": {
   "display_name": "Python 3",
   "language": "python",
   "name": "python3"
  },
  "language_info": {
   "codemirror_mode": {
    "name": "ipython",
    "version": 3
   },
   "file_extension": ".py",
   "mimetype": "text/x-python",
   "name": "python",
   "nbconvert_exporter": "python",
   "pygments_lexer": "ipython3",
   "version": "3.8.5"
  }
 },
 "nbformat": 4,
 "nbformat_minor": 4
}
