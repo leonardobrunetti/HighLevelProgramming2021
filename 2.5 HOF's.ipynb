{
 "cells": [
  {
   "cell_type": "code",
   "execution_count": 12,
   "metadata": {},
   "outputs": [
    {
     "name": "stdout",
     "output_type": "stream",
     "text": [
      "Aluminium:\n",
      "\n",
      "circle:  6.283185307179586\n",
      "disk:  3.141592653589793\n",
      "sphere:  4.1887902047863905\n",
      "circle:  12.566370614359172\n",
      "disk:  12.566370614359172\n",
      "sphere:  33.510321638291124\n",
      "circle:  18.84955592153876\n",
      "disk:  28.274333882308138\n",
      "sphere:  113.09733552923254\n",
      "\n",
      "Iron:\n",
      "circle:  6.283185307179586\n",
      "disk:  3.141592653589793\n",
      "sphere:  4.1887902047863905\n",
      "circle:  12.566370614359172\n",
      "disk:  12.566370614359172\n",
      "sphere:  33.510321638291124\n",
      "circle:  18.84955592153876\n",
      "disk:  28.274333882308138\n",
      "sphere:  113.09733552923254\n",
      "\n",
      "Lead:\n",
      "circle:  6.283185307179586\n",
      "disk:  3.141592653589793\n",
      "sphere:  4.1887902047863905\n",
      "circle:  12.566370614359172\n",
      "disk:  12.566370614359172\n",
      "sphere:  33.510321638291124\n",
      "circle:  18.84955592153876\n",
      "disk:  28.274333882308138\n",
      "sphere:  113.09733552923254\n"
     ]
    }
   ],
   "source": [
    "from math import pi\n",
    "\n",
    "al = [0.5, 1, 2]\n",
    "fe = [3, 4, 5]\n",
    "pb = [15, 20, 30]\n",
    "radii = [1, 2, 3]\n",
    "\n",
    "#lambda functions\n",
    "circle = lambda d,r: 2*pi*r\n",
    "disk = lambda d,r: pi*(r**2)\n",
    "sphere = lambda d,r: (4/3)*pi*(r**3)\n",
    "\n",
    "print(\"Aluminium:\\n\")\n",
    "for d, r in zip(al, radii):\n",
    "    print(\"circle: \",circle(d, r))\n",
    "    print(\"disk: \", disk(d, r))\n",
    "    print(\"sphere: \", sphere(d, r))\n",
    "\n",
    "print(\"\\nIron:\")\n",
    "for d, r in zip(fe, radii):\n",
    "    print(\"circle: \",circle(d, r))\n",
    "    print(\"disk: \", disk(d, r))\n",
    "    print(\"sphere: \", sphere(d, r))\n",
    "\n",
    "\n",
    "\n",
    "print(\"\\nLead:\")\n",
    "for d, r in zip(pb, radii):\n",
    "    print(\"circle: \",circle(d, r))\n",
    "    print(\"disk: \", disk(d, r))\n",
    "    print(\"sphere: \", sphere(d, r))\n",
    "\n",
    "\n",
    "#weight = dens*vol\n",
    "#circle = 2*pi*r\n",
    "#disk = pi*(r**2)\n",
    "#sphere = (4/3)*pi*(r**3)\n",
    "\n"
   ]
  },
  {
   "cell_type": "code",
   "execution_count": null,
   "metadata": {},
   "outputs": [],
   "source": []
  }
 ],
 "metadata": {
  "kernelspec": {
   "display_name": "Python 3",
   "language": "python",
   "name": "python3"
  },
  "language_info": {
   "codemirror_mode": {
    "name": "ipython",
    "version": 3
   },
   "file_extension": ".py",
   "mimetype": "text/x-python",
   "name": "python",
   "nbconvert_exporter": "python",
   "pygments_lexer": "ipython3",
   "version": "3.8.5"
  }
 },
 "nbformat": 4,
 "nbformat_minor": 4
}
