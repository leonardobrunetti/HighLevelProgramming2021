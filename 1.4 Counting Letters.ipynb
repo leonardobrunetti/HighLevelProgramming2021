{
 "cells": [
  {
   "cell_type": "code",
   "execution_count": 22,
   "metadata": {},
   "outputs": [],
   "source": [
    "def freq(s):\n",
    "\n",
    "    characters = [x for x in s]\n",
    "    str = []\n",
    "    for i in characters:\n",
    "        if i not in str:\n",
    "            str.append(i)\n",
    "    for i in range(0, len(str)):\n",
    "        print(\"Frequency of \", str[i], \"is: \", s.count(str[i]))"
   ]
  },
  {
   "cell_type": "code",
   "execution_count": 23,
   "metadata": {},
   "outputs": [
    {
     "name": "stdout",
     "output_type": "stream",
     "text": [
      "Frequency of  W is:  3\n",
      "Frequency of  r is:  19\n",
      "Frequency of  i is:  12\n",
      "Frequency of  t is:  19\n",
      "Frequency of  e is:  20\n",
      "Frequency of    is:  41\n",
      "Frequency of  a is:  7\n",
      "Frequency of  p is:  8\n",
      "Frequency of  o is:  15\n",
      "Frequency of  g is:  1\n",
      "Frequency of  m is:  8\n",
      "Frequency of  h is:  9\n",
      "Frequency of  n is:  10\n",
      "Frequency of  s is:  7\n",
      "Frequency of  u is:  7\n",
      "Frequency of  b is:  4\n",
      "Frequency of  f is:  9\n",
      "Frequency of  1 is:  2\n",
      "Frequency of  0 is:  2\n",
      "Frequency of  . is:  3\n",
      "Frequency of  B is:  1\n",
      "Frequency of  l is:  12\n",
      "Frequency of  H is:  2\n",
      "Frequency of  d is:  5\n",
      "Frequency of  v is:  2\n",
      "Frequency of  F is:  1\n",
      "Frequency of  w is:  1\n",
      "Frequency of  c is:  1\n",
      "['W', 'r', 'i', 't', 'e', ' ', 'a', 'p', 'o', 'g', 'm', 'h', 'n', 's', 'u', 'b', 'f', '1', '0', '.', 'B', 'l', 'H', 'd', 'v', 'F', 'w', 'c']\n"
     ]
    }
   ],
   "source": [
    "s = \"Write a program that prints the numbers from 1 to 100. \\\n",
    "But for multiples of three print Hello instead of the number and for the multiples of five print World. \\\n",
    "For numbers which are multiples of both three and five print HelloWorld.\"\n",
    "\n",
    "freq(s)"
   ]
  },
  {
   "cell_type": "code",
   "execution_count": null,
   "metadata": {},
   "outputs": [],
   "source": []
  }
 ],
 "metadata": {
  "kernelspec": {
   "display_name": "Python 3",
   "language": "python",
   "name": "python3"
  },
  "language_info": {
   "codemirror_mode": {
    "name": "ipython",
    "version": 3
   },
   "file_extension": ".py",
   "mimetype": "text/x-python",
   "name": "python",
   "nbconvert_exporter": "python",
   "pygments_lexer": "ipython3",
   "version": "3.8.5"
  }
 },
 "nbformat": 4,
 "nbformat_minor": 4
}
