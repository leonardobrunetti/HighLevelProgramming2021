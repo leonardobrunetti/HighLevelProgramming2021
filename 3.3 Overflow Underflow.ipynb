{
 "cells": [
  {
   "cell_type": "markdown",
   "metadata": {},
   "source": [
    "3. Write a program to determine the underflow and overflow limits (within a factor of 2) for python on your computer.\n",
    "Tip: define two variables initialized to 1 and halve/double them for a sufficient amount of times to exceed the under/over-flow limits"
   ]
  },
  {
   "cell_type": "code",
   "execution_count": null,
   "metadata": {},
   "outputs": [
    {
     "name": "stdout",
     "output_type": "stream",
     "text": [
      "Underflow : 24 final number: 0.0\n"
     ]
    }
   ],
   "source": [
    "import sys\n",
    "\n",
    "under = 1\n",
    "over = 1\n",
    "\n",
    "i = 1\n",
    "while (under != 0):\n",
    "    under = under/2\n",
    "    i += 1\n",
    "print(\"Underflow :\", sys.getsizeof(under), \"final number:\", under)\n",
    "\n",
    "j = 1\n",
    "while (over < 2**60000): #CAN'T REALLY FIND THE RIGHT NUMBER\n",
    "    over = over*2\n",
    "    j += 1\n",
    "print(\"Overflow size: \", sys.getsizeof(over), \"iteration: \", i, \"final number: \", over)\n"
   ]
  },
  {
   "cell_type": "code",
   "execution_count": null,
   "metadata": {},
   "outputs": [],
   "source": []
  }
 ],
 "metadata": {
  "kernelspec": {
   "display_name": "Python 3",
   "language": "python",
   "name": "python3"
  },
  "language_info": {
   "codemirror_mode": {
    "name": "ipython",
    "version": 3
   },
   "file_extension": ".py",
   "mimetype": "text/x-python",
   "name": "python",
   "nbconvert_exporter": "python",
   "pygments_lexer": "ipython3",
   "version": "3.8.5"
  }
 },
 "nbformat": 4,
 "nbformat_minor": 4
}
